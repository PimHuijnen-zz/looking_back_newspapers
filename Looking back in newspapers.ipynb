{
 "cells": [
  {
   "cell_type": "markdown",
   "metadata": {},
   "source": [
    "# Looking forward and looking back in Dutch newspapers\n",
    "\n",
    "Code is designed for raw csv's from Delpher with 28 columns."
   ]
  },
  {
   "cell_type": "code",
   "execution_count": null,
   "metadata": {},
   "outputs": [],
   "source": [
    "import pandas as pd\n",
    "import glob\n",
    "import random\n",
    "import os\n",
    "import string\n",
    "import re\n",
    "import numpy as np\n",
    "from collections import Counter\n",
    "from datetime import datetime\n",
    "from nltk import word_tokenize\n",
    "from nltk.util import ngrams\n",
    "import matplotlib.pyplot as plt\n",
    "import matplotlib.dates as mdates\n",
    "import matplotlib.cm as mplcm\n",
    "import matplotlib.colors as colors\n",
    "from matplotlib.pyplot import cm\n",
    "from tqdm.notebook import tqdm as log_progress"
   ]
  },
  {
   "cell_type": "code",
   "execution_count": null,
   "metadata": {},
   "outputs": [],
   "source": [
    "paper = 'De Telegraaf'\n",
    "paper_short = 'telegraaf'\n",
    "path = \"/path/to/folder/De_Telegraaf/\"\n",
    "allfiles = glob.glob(os.path.join(path, \"*.csv\"))"
   ]
  },
  {
   "cell_type": "code",
   "execution_count": null,
   "metadata": {},
   "outputs": [],
   "source": [
    "jaren = ['een', 'twee', 'drie', 'vier', 'vijf', 'zes', 'zeven', 'acht', 'negen', 'tien', 'elf', 'twaalf', 'dertien', 'veertien', 'vijftien', 'zestien', 'zeventien', 'achttien', 'negentien', 'twintig', 'dertig', 'veertig', 'vijftig', 'zestig', 'zeventig', 'tachtig', 'negentig', 'honderd', 'honderdtien', 'honderdtwintig', 'honderddertig', 'honderdveertig', 'honderdvijftig', 'honderdzestig', 'honderdzeventig', 'honderdtachtig', 'honderdnegentig', 'tweehonderd']\n",
    "print(len(jaren))"
   ]
  },
  {
   "cell_type": "code",
   "execution_count": null,
   "metadata": {},
   "outputs": [],
   "source": [
    "def query_column(i):\n",
    "    \"\"\"Function for naming df columns\"\"\"\n",
    "    i_df = i.replace(' ','_')\n",
    "    return i_df\n",
    "\n",
    "def remove_punctuation(words):\n",
    "    \"\"\"Remove punctuation from list of tokenized words\"\"\"\n",
    "    new_words = []\n",
    "    for word in word_tokenize(words):\n",
    "        new_word = re.sub(r'[^\\w\\s]', '', word)\n",
    "        if new_word != '' and len(new_word) >=3:\n",
    "            new_words.append(new_word)\n",
    "    words_str = (\" \".join(new_words))\n",
    "    return words_str\n",
    "\n",
    "def word_count(string):\n",
    "    \"\"\"Function to count words in text string\"\"\"\n",
    "    words = string.split()\n",
    "    return len(words)\n",
    "\n",
    "def jaar_geleden(jaar):\n",
    "    jaar_geleden = jaar + ' jaar geleden'\n",
    "    return str(jaar_geleden)\n",
    "\n",
    "def over_jaar(jaar):\n",
    "    over_jaar = 'over ' + jaar + ' jaar'\n",
    "    return str(over_jaar)"
   ]
  },
  {
   "cell_type": "markdown",
   "metadata": {},
   "source": [
    "## Step 1: getting the data\n",
    "Make dataframe 'corpus' from newspaper documents' date, title and text"
   ]
  },
  {
   "cell_type": "code",
   "execution_count": null,
   "metadata": {},
   "outputs": [],
   "source": [
    "sample_size = 1000\n",
    "corpus = pd.DataFrame()\n",
    "\n",
    "for filename in log_progress(allfiles):\n",
    "    n = sum(1 for line in open(filename)) #number of records in file (excludes header)\n",
    "    skip = sorted(random.sample(range(1,n+1),n-sample_size)) #the 0-indexed header will not be included in the skip list\n",
    "    df = pd.read_csv(filename, sep=\"\\t\", usecols=[4, 25, 28], skiprows=skip)\n",
    "    print(\"Removing \" + str(len(df[df.duplicated(keep='first') == True])) + \" rows...\", end=\" \")\n",
    "    df.drop(df.index[df.duplicated(keep='first') == True], axis=0, inplace=True)\n",
    "    df['text_content'] = df['text_content'].apply(str)\n",
    "    df['text_clean'] = df['text_content'].apply(remove_punctuation)\n",
    "    df['text_clean'] = df['text_clean'].str.lower()\n",
    "    corpus = pd.concat([corpus, df], axis=0, ignore_index=True)"
   ]
  },
  {
   "cell_type": "code",
   "execution_count": null,
   "metadata": {},
   "outputs": [],
   "source": [
    "print(corpus.head())"
   ]
  },
  {
   "cell_type": "markdown",
   "metadata": {},
   "source": [
    "Turn date column into datetime index, remove old date and raw text columns "
   ]
  },
  {
   "cell_type": "code",
   "execution_count": null,
   "metadata": {},
   "outputs": [],
   "source": [
    "corpus['date'] = pd.to_datetime(corpus['paper_dc_date'], format =\"%Y-%m-%d\")\n",
    "corpus = corpus.set_index('date') # voor het tellen van jaren waarnaar indirect verwezen wordt is date als index niet handig\n",
    "corpus = corpus.drop(columns=['paper_dc_date', 'text_content'])\n",
    "corpus.sort_index(inplace=True)"
   ]
  },
  {
   "cell_type": "markdown",
   "metadata": {},
   "source": [
    "Group by year"
   ]
  },
  {
   "cell_type": "code",
   "execution_count": null,
   "metadata": {},
   "outputs": [],
   "source": [
    "corpus2 = corpus.groupby(corpus.index.year).sum()\n",
    "corpus2[\"no_words\"] = corpus2[\"text_clean\"].str.len()"
   ]
  },
  {
   "cell_type": "code",
   "execution_count": null,
   "metadata": {},
   "outputs": [],
   "source": [
    "print(corpus2.head())"
   ]
  },
  {
   "cell_type": "code",
   "execution_count": null,
   "metadata": {},
   "outputs": [],
   "source": [
    "print(corpus2['no_words'].describe())"
   ]
  },
  {
   "cell_type": "markdown",
   "metadata": {},
   "source": [
    "## Querying looking back and looking forward\n",
    "\n",
    "\n",
    "String count to dataframe column"
   ]
  },
  {
   "cell_type": "code",
   "execution_count": null,
   "metadata": {},
   "outputs": [],
   "source": [
    "for jaar in jaren:\n",
    "    corpus2[query_column(jaar_geleden(jaar)) + '_raw'] = corpus2[\"text_clean\"].str.count(jaar_geleden(jaar))\n",
    "    corpus2[query_column(jaar_geleden(jaar)) + '_permill'] = corpus2[query_column(jaar_geleden(jaar)) + '_raw'] / corpus2['no_words'] * 1000000\n",
    "    corpus2[query_column(over_jaar(jaar)) + '_raw'] = corpus2[\"text_clean\"].str.count(over_jaar(jaar))\n",
    "    corpus2[query_column(over_jaar(jaar)) + '_permill'] = corpus2[query_column(over_jaar(jaar)) + '_raw'] / corpus2['no_words'] * 1000000\n"
   ]
  },
  {
   "cell_type": "code",
   "execution_count": null,
   "metadata": {},
   "outputs": [],
   "source": [
    "print(corpus2.head())"
   ]
  },
  {
   "cell_type": "markdown",
   "metadata": {},
   "source": [
    "### Making line charts based on 'n years ago'"
   ]
  },
  {
   "cell_type": "markdown",
   "metadata": {},
   "source": [
    "Make new dataframe without text column (while keeping corpus2 intact)."
   ]
  },
  {
   "cell_type": "code",
   "execution_count": null,
   "metadata": {},
   "outputs": [],
   "source": [
    "filter_years_ref_columns = [col for col in corpus2 if str(col).endswith(('geleden_permill'))]\n",
    "corpus2_geleden = corpus2.filter(filter_years_ref_columns, axis=1)\n",
    "corpus2_geleden['no_words'] = corpus2['no_words']"
   ]
  },
  {
   "cell_type": "code",
   "execution_count": null,
   "metadata": {},
   "outputs": [],
   "source": [
    "print(corpus2_geleden.head())"
   ]
  },
  {
   "cell_type": "code",
   "execution_count": null,
   "metadata": {},
   "outputs": [],
   "source": [
    "filter_years_ref_columns = [col for col in corpus2 if str(col).endswith(('jaar_permill'))]\n",
    "corpus2_vooruit = corpus2.filter(filter_years_ref_columns, axis=1)\n",
    "corpus2_vooruit['no_words'] = corpus2['no_words']"
   ]
  },
  {
   "cell_type": "code",
   "execution_count": null,
   "metadata": {},
   "outputs": [],
   "source": [
    "corpus2_geleden.to_csv(\"/path/to/folder/geleden_in_leeuwardercourant_10000.csv\")"
   ]
  },
  {
   "cell_type": "markdown",
   "metadata": {},
   "source": [
    "<b>Line chart per year based on corpus2_geleden</b>"
   ]
  },
  {
   "cell_type": "code",
   "execution_count": null,
   "metadata": {},
   "outputs": [],
   "source": [
    "plt.style.use(\"bmh\")\n",
    "fig, ax = plt.subplots(figsize=(15,10))\n",
    "\n",
    "jaren2 = ['een', 'twee']\n",
    "\n",
    "x = corpus2_geleden.index\n",
    "num_colors = len(jaren2)\n",
    "cmap = plt.get_cmap('Dark2') # See https://matplotlib.org/stable/tutorials/colors/colormaps.html\n",
    "\n",
    "\n",
    "\n",
    "for no, jaar in enumerate(jaren2):\n",
    "    jaar_geleden = jaar + ' jaar geleden'\n",
    "    y = corpus2_geleden[query_column(jaar_geleden) + '_permill']\n",
    "    ax.plot(x, y, label = jaar_geleden, marker='.', color=cmap(no))\n",
    "    plt.xticks(np.arange(min(x), max(x)+1, 2.0))\n",
    "    \n",
    "    \n",
    "\n",
    "plt.xticks(rotation = 45)\n",
    "\n",
    "ax.set_xlabel('Time')\n",
    "ax.set_ylabel('Frequency per Million words')\n",
    "ax.set_title('Phrases of \\'n years ago\\' in ' + paper + ' (sample size per year = 10,000 docs)')\n",
    "\n",
    "plt.legend()\n",
    "plt.show()"
   ]
  },
  {
   "cell_type": "code",
   "execution_count": null,
   "metadata": {},
   "outputs": [],
   "source": [
    "fig.savefig(\"/path/to/folder/\" + paper_short + \"_one_two_years.png\", dpi=300)"
   ]
  },
  {
   "cell_type": "markdown",
   "metadata": {},
   "source": [
    "<b>Line chart per year based on corpus2_vooruit</b>"
   ]
  },
  {
   "cell_type": "code",
   "execution_count": null,
   "metadata": {},
   "outputs": [],
   "source": [
    "plt.style.use(\"ggplot\")\n",
    "fig, ax = plt.subplots(figsize=(15,10))\n",
    "\n",
    "x = corpus2_vooruit.index\n",
    "num_colors = len(jaren2)\n",
    "cm = plt.get_cmap('Dark2') # See https://matplotlib.org/stable/tutorials/colors/colormaps.html\n",
    "\n",
    "jaren2 = ['een', 'twee']\n",
    "\n",
    "for no, jaar in enumerate(jaren2):\n",
    "    over_jaar = 'over ' + jaar + ' jaar'\n",
    "    y = corpus2_vooruit[query_column(over_jaar) + '_permill']\n",
    "    ax.plot(x, y, label = over_jaar)\n",
    "    plt.xticks(np.arange(min(x), max(x)+1, 2.0))\n",
    "    ax.set_prop_cycle('color', [cm(no/num_colors)])\n",
    "\n",
    "plt.xticks(rotation = 45)\n",
    "\n",
    "ax.set_xlabel('Time')\n",
    "ax.set_ylabel('Frequency per Million words')\n",
    "ax.set_title('Phrases of \\'over n years\\' in ' + paper + ' (sample size per year = 10,000 docs)')\n",
    "\n",
    "plt.legend()\n",
    "plt.show()"
   ]
  },
  {
   "cell_type": "code",
   "execution_count": null,
   "metadata": {},
   "outputs": [],
   "source": [
    "fig.savefig(\"/path/to/folder/\" + paper_short + \"_in_n_years.png\", dpi=300)"
   ]
  },
  {
   "cell_type": "markdown",
   "metadata": {},
   "source": [
    "### Counting frequency of years referred to by 'n years ago'"
   ]
  },
  {
   "cell_type": "code",
   "execution_count": null,
   "metadata": {},
   "outputs": [],
   "source": [
    "corpus2.reset_index(inplace=True) # turn 'date' into normal column to calculate target_year ('jaar_' + jaar)"
   ]
  },
  {
   "cell_type": "code",
   "execution_count": null,
   "metadata": {},
   "outputs": [],
   "source": [
    "print(corpus2.head())"
   ]
  },
  {
   "cell_type": "code",
   "execution_count": null,
   "metadata": {},
   "outputs": [],
   "source": [
    "numbers = {'1':'een', '2':'twee', '3':'drie', '4':'vier', '5':'vijf', '6':'zes', '7':'zeven', '8':'acht', '9':'negen', '10':'tien', '11':'elf', '12':'twaalf', '13':'dertien', '14':'veertien', '15':'vijftien', '16':'zestien', '17':'zeventien', '18':'achttien', '19':'negentien', '20':'twintig', '30':'dertig', '40':'veertig', '50':'vijftig', '60':'zestig', '70':'zeventig', '80':'tachtig', '90':'negentig', '100':'honderd', '110':'honderdtien', '120':'honderdtwintig', '130':'honderddertig', '140':'honderdveertig', '150':'honderdvijftig', '160':'honderdzestig', '170':'honderdzeventig', '180':'honderdtachtig', '190':'honderdnegentig', '200':'tweehonderd'}\n",
    "\n",
    "def word_to_number(jaar):\n",
    "    for number, word in numbers.items():\n",
    "        if jaar == word:\n",
    "            word_number = number\n",
    "    return int(word_number)\n",
    "\n",
    "def jaar_geleden(jaar): # Herhaling van hierboven, omdat dat om de een of andere reden moet. Werkt dit?\n",
    "    jaar_geleden = jaar + ' jaar geleden'\n",
    "    return str(jaar_geleden)\n",
    "\n",
    "def over_jaar(jaar): # Herhaling van hierboven, omdat dat om de een of andere reden moet. Werkt dit?\n",
    "    over_jaar = 'over ' + jaar + ' jaar'\n",
    "    return str(over_jaar)"
   ]
  },
  {
   "cell_type": "code",
   "execution_count": null,
   "metadata": {},
   "outputs": [],
   "source": [
    "print(len(jaren))"
   ]
  },
  {
   "cell_type": "markdown",
   "metadata": {},
   "source": [
    "This code makes a column in corpus2 for every year in 'jaren' that calculates to which year 'n years ago' refers. Next, it makes a dictionary that turns these years-that-are-referred-to into keys and the frequency of the string 'n years ago' for this year as value. For each year in 'jaren' this is summed in final_dict"
   ]
  },
  {
   "cell_type": "code",
   "execution_count": null,
   "metadata": {},
   "outputs": [],
   "source": [
    "final_dict = {}\n",
    "add_dict = {}\n",
    "add_dict = Counter(add_dict)\n",
    "\n",
    "for jaar in jaren:\n",
    "    corpus2['jaar_' + jaar] = [row - word_to_number(jaar) for row in corpus2['date'].astype(int)]\n",
    "    #    mydict[jaar] = dict(zip(df['jaar_' + jaar], df['count_' + jaar])) # https://stackoverflow.com/questions/18695605/python-pandas-dataframe-to-dictionary\n",
    "    mydict = {d['jaar_' + jaar]: d[query_column(jaar_geleden(jaar)) + '_permill'] for d in corpus2.to_dict(orient='records')} # https://stackoverflow.com/questions/40924592/python-dictionary-comprehension-with-pandas\n",
    "    mydict_counter = Counter(mydict) # https://www.kite.com/python/answers/how-to-add-values-from-two-dictionaries-in-python\n",
    "    add_dict = add_dict + mydict_counter\n",
    "    \n",
    "final_dict = dict(add_dict)\n",
    "    "
   ]
  },
  {
   "cell_type": "code",
   "execution_count": null,
   "metadata": {},
   "outputs": [],
   "source": [
    "print(final_dict)"
   ]
  },
  {
   "cell_type": "code",
   "execution_count": null,
   "metadata": {},
   "outputs": [],
   "source": [
    "df_years_ago = pd.DataFrame.from_dict(final_dict, orient='index')\n",
    "df_years_ago = df_years_ago.sort_index(axis = 0)\n",
    "print(df_years_ago.head())"
   ]
  },
  {
   "cell_type": "code",
   "execution_count": null,
   "metadata": {},
   "outputs": [],
   "source": [
    "fig, ax = plt.subplots(figsize = [15,8])\n",
    "cmap = plt.get_cmap('Dark2')\n",
    "\n",
    "ax.bar(df_years_ago.index, df_years_ago[0], color=cmap(0))\n",
    "plt.xticks(np.arange(min(df_years_ago.index), max(df_years_ago.index)+1, 5.0))\n",
    "plt.xticks(rotation=45)\n",
    "ax.set_xlabel('Time')\n",
    "ax.set_ylabel('Frequency per Million words')\n",
    "ax.set_title('Years refered to via \\'n years ago\\' in ' + paper +  ' (sample size per year = 10,000 docs)')\n",
    "plt.show()"
   ]
  },
  {
   "cell_type": "code",
   "execution_count": null,
   "metadata": {},
   "outputs": [],
   "source": [
    "fig.savefig(\"/path/to/folder/\" + paper_short + \"_years_ago_ref.png\", dpi=300)"
   ]
  },
  {
   "cell_type": "markdown",
   "metadata": {},
   "source": [
    "### Slicing on centuries"
   ]
  },
  {
   "cell_type": "code",
   "execution_count": null,
   "metadata": {},
   "outputs": [],
   "source": [
    "seventeen = df_years_ago.loc[1720:1800]\n",
    "eighteen = df_years_ago.loc[1800:1900]\n",
    "nineteen = df_years_ago.loc[1900:2000]\n",
    "centuries = [seventeen, eighteen, nineteen]"
   ]
  },
  {
   "cell_type": "code",
   "execution_count": null,
   "metadata": {},
   "outputs": [],
   "source": [
    "fig, axs = plt.subplots(3,1, figsize = [15,20], sharey=False)\n",
    "num_colors2 = len(centuries)\n",
    "cmap = plt.get_cmap('Dark2') # See https://matplotlib.org/stable/tutorials/colors/colormaps.html\n",
    "\n",
    "for no, i in enumerate(centuries):\n",
    "    ax = axs[no]\n",
    "    ax.bar(i.index, i[0], color=cmap(no))\n",
    "    ax.set_xticks(np.arange(min(i.index), max(i.index)+1, 5.0))\n",
    "    ax.set_xlabel('Time')\n",
    "    ax.set_ylabel('Frequency per Million words')\n",
    "    ax.set_title('Years referred to via \\'n years ago\\' in ' + paper + ' (sample size per year = 10,000 docs)')\n",
    "plt.show()"
   ]
  },
  {
   "cell_type": "code",
   "execution_count": null,
   "metadata": {},
   "outputs": [],
   "source": [
    "fig.savefig(\"/path/to/folder/\" + paper_short + \"_years_ago_ref1.png\", dpi=300)"
   ]
  },
  {
   "cell_type": "code",
   "execution_count": null,
   "metadata": {},
   "outputs": [],
   "source": [
    "jaren.to_csv(\"/path/to/folder/years_ago.csv\")"
   ]
  },
  {
   "cell_type": "markdown",
   "metadata": {},
   "source": [
    "### Now the same for 'over n jaar'"
   ]
  },
  {
   "cell_type": "code",
   "execution_count": null,
   "metadata": {},
   "outputs": [],
   "source": [
    "final_dict2 = {}\n",
    "add_dict2 = {}\n",
    "add_dict2 = Counter(add_dict2)\n",
    "\n",
    "for jaar in jaren:\n",
    "    corpus2['jaar_' + jaar] = [row + word_to_number(jaar) for row in corpus2['date'].astype(int)]\n",
    "    #    mydict[jaar] = dict(zip(df['jaar_' + jaar], df['count_' + jaar])) # https://stackoverflow.com/questions/18695605/python-pandas-dataframe-to-dictionary\n",
    "    mydict2 = {d['jaar_' + jaar]: d[query_column(over_jaar(jaar)) + '_permill'] for d in corpus2.to_dict(orient='records')} # https://stackoverflow.com/questions/40924592/python-dictionary-comprehension-with-pandas\n",
    "    mydict_counter2 = Counter(mydict2) # https://www.kite.com/python/answers/how-to-add-values-from-two-dictionaries-in-python\n",
    "    add_dict2 = add_dict2 + mydict_counter2\n",
    "    \n",
    "final_dict2 = dict(add_dict2) "
   ]
  },
  {
   "cell_type": "code",
   "execution_count": null,
   "metadata": {},
   "outputs": [],
   "source": [
    "jaren2 = pd.DataFrame.from_dict(final_dict2, orient='index')\n",
    "jaren2 = jaren2.sort_index(axis = 0)\n",
    "print(jaren2.head())"
   ]
  },
  {
   "cell_type": "code",
   "execution_count": null,
   "metadata": {},
   "outputs": [],
   "source": [
    "fig, ax = plt.subplots(figsize = [15,8])\n",
    "cmap = plt.get_cmap('Dark2')\n",
    "\n",
    "ax.bar(jaren2.index, jaren2[0], color=cmap(0))\n",
    "plt.xticks(np.arange(min(jaren2.index), max(jaren2.index)+1, 5.0))\n",
    "plt.xticks(rotation=45)\n",
    "ax.set_xlabel('Time')\n",
    "ax.set_ylabel('Frequency per Million words')\n",
    "ax.set_title('Years referred to via \\'over n years\\' in ' + paper + ' (sample size per year = 10,000 docs)')\n",
    "plt.show()"
   ]
  },
  {
   "cell_type": "code",
   "execution_count": null,
   "metadata": {},
   "outputs": [],
   "source": [
    "fig.savefig(\"/path/to/folder/\" + paper_short + \"_over_years_ref.png\", dpi=300)"
   ]
  },
  {
   "cell_type": "markdown",
   "metadata": {},
   "source": [
    "### Slicing on centuries"
   ]
  },
  {
   "cell_type": "code",
   "execution_count": null,
   "metadata": {},
   "outputs": [],
   "source": [
    "eighteen2 = jaren2.loc[1895:1900]\n",
    "nineteen2 = jaren2.loc[1900:2000]\n",
    "twenty2 = jaren2.loc[2000:2100]\n",
    "centuries2 = [nineteen2, twenty2]"
   ]
  },
  {
   "cell_type": "code",
   "execution_count": null,
   "metadata": {},
   "outputs": [],
   "source": [
    "fig, axs = plt.subplots(2,1, figsize = [15,16], sharey=False)\n",
    "cmap = plt.get_cmap(\"Dark2\")\n",
    "\n",
    "for no, i in enumerate(centuries2):\n",
    "    ax = axs[no]\n",
    "    ax.bar(i.index, i[0], color=cmap(no))\n",
    "    ax.set_xticks(np.arange(min(i.index), max(i.index)+1, 5.0))\n",
    "    ax.set_xlabel('Time')\n",
    "    ax.set_ylabel('Frequency per Million words')\n",
    "    ax.set_title('Years referred to via \\'over n years\\' in ' + paper + ' (sample size per year = 10,000 docs)')\n",
    "plt.show()"
   ]
  },
  {
   "cell_type": "code",
   "execution_count": null,
   "metadata": {},
   "outputs": [],
   "source": [
    "fig.savefig(\"/path/to/folder/\" + paper_short + \"_over_years_ref1.png\", dpi=300)"
   ]
  },
  {
   "cell_type": "markdown",
   "metadata": {},
   "source": [
    "### Combining results of 'n years ago' and 'over n years' between 1900 and 2000"
   ]
  },
  {
   "cell_type": "code",
   "execution_count": null,
   "metadata": {},
   "outputs": [],
   "source": [
    "nineteen_total = nineteen.merge(nineteen2, left_index=True, right_index=True, how='outer')\n",
    "nineteen_total = nineteen_total.rename(columns={'0_x':'n years ago', '0_y': 'in n years'})\n",
    "print(nineteen_total.head())"
   ]
  },
  {
   "cell_type": "code",
   "execution_count": null,
   "metadata": {},
   "outputs": [],
   "source": [
    "fig, ax = plt.subplots(figsize = [15,8])\n",
    "cmap = plt.get_cmap('Dark2')\n",
    "\n",
    "ax.bar(nineteen_total.index, nineteen_total['n years ago'], label='n years ago', color=cmap(5))\n",
    "ax.bar(nineteen_total.index, nineteen_total['in n years'], label='in n years', color=cmap(4), bottom = nineteen_total['n years ago'])\n",
    "plt.xticks(np.arange(min(nineteen_total.index), max(nineteen_total.index)+1, 5.0))\n",
    "plt.xticks(rotation=45)\n",
    "ax.set_xlabel('Time')\n",
    "ax.set_ylabel('Frequency per Million words')\n",
    "ax.set_title('Years referred to via \\'n years ago\\' and \\'over n years\\' in ' + paper + ' (sample size per year = 10,000 docs)')\n",
    "plt.legend()\n",
    "plt.show()"
   ]
  },
  {
   "cell_type": "code",
   "execution_count": null,
   "metadata": {},
   "outputs": [],
   "source": [
    "fig.savefig(\"/path/to/folder/\" + paper_short + \"_over_ago_nineteen.png\", dpi=300)"
   ]
  },
  {
   "cell_type": "markdown",
   "metadata": {},
   "source": [
    "## Create list of n-grams of variations of \"n years ago\""
   ]
  },
  {
   "cell_type": "markdown",
   "metadata": {},
   "source": [
    "Creating a matrix of years (rows) and variations of \"n years ago\" (columns)"
   ]
  },
  {
   "cell_type": "code",
   "execution_count": null,
   "metadata": {},
   "outputs": [],
   "source": [
    "corpus3 = corpus.groupby((corpus.index.year//10)*10).sum()\n",
    "corpus3[\"no_words\"] = corpus3[\"text_clean\"].str.len()"
   ]
  },
  {
   "cell_type": "code",
   "execution_count": null,
   "metadata": {},
   "outputs": [],
   "source": [
    "print(corpus3.shape)"
   ]
  },
  {
   "cell_type": "code",
   "execution_count": null,
   "metadata": {},
   "outputs": [],
   "source": [
    "print(corpus3.head(10))"
   ]
  },
  {
   "cell_type": "code",
   "execution_count": null,
   "metadata": {},
   "outputs": [],
   "source": [
    "ago_df_final = pd.DataFrame()\n",
    "\n",
    "for index, row in log_progress(corpus3.iterrows()):\n",
    "    text_list = corpus3.loc[index, 'text_clean'].split()\n",
    "    columns = ['first', 'second', 'third']\n",
    "    ngrams_df = pd.DataFrame(ngrams(text_list, 3), columns = columns).astype(str)\n",
    "    ngrams_df['trigrams'] = ngrams_df['first'].str.cat([ngrams_df['second'], ngrams_df['third']], sep=' ')\n",
    "    ngrams_df.drop(['first', 'second', 'third'], axis=1, inplace=True)\n",
    "    ngrams_df['no_trigrams'] = len(ngrams_df['trigrams'])\n",
    "    ngrams_df['ago'] = ngrams_df['trigrams'][ngrams_df['trigrams'].str.endswith(\"jaar geleden\")]\n",
    "    ago_df = ngrams_df['ago'].value_counts().rename_axis('jaar').to_frame(index).transpose()\n",
    "    ago_df['no_trigrams'] = ngrams_df['no_trigrams']\n",
    "    ago_df_final = pd.concat([ago_df_final, ago_df], axis=0, ignore_index=False) "
   ]
  },
  {
   "cell_type": "code",
   "execution_count": null,
   "metadata": {},
   "outputs": [],
   "source": [
    "ago_df_final['no_words'] = corpus3['no_words']"
   ]
  },
  {
   "cell_type": "code",
   "execution_count": null,
   "metadata": {},
   "outputs": [],
   "source": [
    "print(ago_df_final.head())"
   ]
  },
  {
   "cell_type": "code",
   "execution_count": null,
   "metadata": {},
   "outputs": [],
   "source": [
    "for column in ago_df_final:\n",
    "    ago_df_final[column] = (ago_df_final[column] / ago_df_final['no_trigrams']) * 1000000"
   ]
  },
  {
   "cell_type": "code",
   "execution_count": null,
   "metadata": {},
   "outputs": [],
   "source": [
    "print(ago_df_final.head())"
   ]
  },
  {
   "cell_type": "markdown",
   "metadata": {},
   "source": [
    "Transposing the df above into a matrix of variations of \"n years ago\" (rows) and years (columns)"
   ]
  },
  {
   "cell_type": "code",
   "execution_count": null,
   "metadata": {},
   "outputs": [],
   "source": [
    "ago_df_final_trp3 = ago_df_final.transpose()\n",
    "print(ago_df_final_trp3.head())"
   ]
  },
  {
   "cell_type": "code",
   "execution_count": null,
   "metadata": {},
   "outputs": [],
   "source": [
    "ago_df_final_trp3.to_csv('/path/to/folder/Telegraaf10000_geleden_ngrams_permilltrigrams.csv')"
   ]
  },
  {
   "cell_type": "code",
   "execution_count": null,
   "metadata": {},
   "outputs": [],
   "source": [
    "ago_df_final_trp3 = pd.read_csv('/path/to/folder/Telegraaf10000_geleden_ngrams_permill.csv', index_col=0)"
   ]
  },
  {
   "cell_type": "code",
   "execution_count": null,
   "metadata": {},
   "outputs": [],
   "source": [
    "print(ago_df_final_trp3.head())"
   ]
  },
  {
   "cell_type": "markdown",
   "metadata": {},
   "source": [
    "Sum all rows (= variations of \"years ago\") per decade from ago_df_final_trp3 and put in dictionary 'total_dict'"
   ]
  },
  {
   "cell_type": "code",
   "execution_count": null,
   "metadata": {},
   "outputs": [],
   "source": [
    "print(int(ago_df_final_trp3['1890'].sum()) - 1000000)"
   ]
  },
  {
   "cell_type": "code",
   "execution_count": null,
   "metadata": {},
   "outputs": [],
   "source": [
    "total_dict = {}\n",
    "\n",
    "for column in ago_df_final_trp3:\n",
    "    total = ago_df_final_trp3[column].sum() - 1000000\n",
    "    total_dict[column] = int(total)"
   ]
  },
  {
   "cell_type": "code",
   "execution_count": null,
   "metadata": {},
   "outputs": [],
   "source": [
    "print(total_dict)"
   ]
  },
  {
   "cell_type": "code",
   "execution_count": null,
   "metadata": {},
   "outputs": [],
   "source": [
    "keys = total_dict.keys()\n",
    "\n",
    "values = total_dict.values()\n",
    "\n",
    "\n",
    "plt.bar(keys, values)\n",
    "plt.show()"
   ]
  }
 ],
 "metadata": {
  "kernelspec": {
   "display_name": "Python 3",
   "language": "python",
   "name": "python3"
  },
  "language_info": {
   "codemirror_mode": {
    "name": "ipython",
    "version": 3
   },
   "file_extension": ".py",
   "mimetype": "text/x-python",
   "name": "python",
   "nbconvert_exporter": "python",
   "pygments_lexer": "ipython3",
   "version": "3.8.5"
  }
 },
 "nbformat": 4,
 "nbformat_minor": 4
}
